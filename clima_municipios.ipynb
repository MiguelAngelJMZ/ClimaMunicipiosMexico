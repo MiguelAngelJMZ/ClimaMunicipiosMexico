{
 "cells": [
  {
   "cell_type": "code",
   "execution_count": 1,
   "id": "15ec75c0",
   "metadata": {},
   "outputs": [],
   "source": [
    "import polars as pl\n",
    "import pandas as pd\n",
    "import random\n",
    "import json\n",
    "import datetime\n",
    "import glob\n",
    "import os\n",
    "import io"
   ]
  },
  {
   "cell_type": "code",
   "execution_count": 2,
   "id": "c501793b",
   "metadata": {},
   "outputs": [],
   "source": [
    "current = datetime.datetime.now().strftime(\"%Y-%m-%d-%H\")"
   ]
  },
  {
   "cell_type": "code",
   "execution_count": 5,
   "id": "ac71ec71",
   "metadata": {},
   "outputs": [
    {
     "name": "stdout",
     "output_type": "stream",
     "text": [
      "data_municipios\\20220501\n"
     ]
    }
   ],
   "source": [
    "list_of_files = glob.glob('data_municipios\\*') # * means all if need specific format then *.csv\n",
    "latest_file = max(list_of_files, key=os.path.getctime)\n",
    "latest_file"
   ]
  },
  {
   "cell_type": "code",
   "execution_count": 6,
   "id": "5a03a726",
   "metadata": {},
   "outputs": [],
   "source": [
    "df = pl.read_csv(f\"{latest_file}/data.csv\")"
   ]
  },
  {
   "cell_type": "code",
   "execution_count": 16,
   "id": "cb71f5bb",
   "metadata": {},
   "outputs": [],
   "source": [
    "df_num_mun = df.groupby(\"Cve_Ent\").agg(pl.struct(\"Cve_Mun\").n_unique().alias('num_mun'))"
   ]
  },
  {
   "cell_type": "code",
   "execution_count": 17,
   "id": "fb86277c",
   "metadata": {},
   "outputs": [],
   "source": [
    "dict_est_mun = {}\n",
    "\n",
    "for a,b in zip(df_num_mun[\"Cve_Ent\"],df_num_mun[\"num_mun\"]):\n",
    "    dict_est_mun[a] = b"
   ]
  },
  {
   "cell_type": "code",
   "execution_count": 52,
   "id": "dd49a5cb",
   "metadata": {},
   "outputs": [],
   "source": [
    "list_mun_clima = []"
   ]
  },
  {
   "cell_type": "code",
   "execution_count": 53,
   "id": "2d1ab3cf",
   "metadata": {},
   "outputs": [],
   "source": [
    "for key, value in dict_est_mun.items():\n",
    "    for mun in range(0, value):\n",
    "        clima_dict = {}\n",
    "        clima_dict[\"cc\"] = random.uniform(89,91)\n",
    "        clima_dict[\"ides\"] = key\n",
    "        clima_dict[\"idmun\"] = mun\n",
    "        clima_dict[\"dirvieng\"] = random.randint(4,10)\n",
    "        clima_dict[\"prec\"] = random.uniform(0.50,1.50) \n",
    "        clima_dict[\"probprec\"] = random.uniform(0,100)\n",
    "        clima_dict[\"raf\"] = random.uniform(14,30)\n",
    "        clima_dict[\"tmax\"] = random.uniform(15,40)\n",
    "        clima_dict[\"tmin\"] = random.uniform(0,15)\n",
    "        clima_dict[\"velvien\"] = random.uniform(0,100)\n",
    "        clima_dict[\"probprec\"] = random.uniform(0,15)\n",
    "            \n",
    "    \n",
    "        list_mun_clima.append(clima_dict)"
   ]
  },
  {
   "cell_type": "code",
   "execution_count": 54,
   "id": "138920dd",
   "metadata": {},
   "outputs": [],
   "source": [
    "mun_clima_json = json.dumps(list_mun_clima)"
   ]
  },
  {
   "cell_type": "code",
   "execution_count": 35,
   "id": "298135c3",
   "metadata": {},
   "outputs": [],
   "source": [
    "with open(f\"json_clima_municipios/{today}.json\", 'w') as outfile:\n",
    "    outfile.write(jsonStr)"
   ]
  },
  {
   "cell_type": "code",
   "execution_count": 55,
   "id": "52ae1251",
   "metadata": {},
   "outputs": [],
   "source": [
    "mun_clima_io = io.StringIO(mun_clima_json)"
   ]
  },
  {
   "cell_type": "code",
   "execution_count": 56,
   "id": "d8b1d0ce",
   "metadata": {},
   "outputs": [],
   "source": [
    "df_mun_clima = pl.read_json(mun_clima_io)"
   ]
  },
  {
   "cell_type": "code",
   "execution_count": 41,
   "id": "63e06b83",
   "metadata": {},
   "outputs": [],
   "source": [
    "df_mun_clima.write_csv(f\"csv_clima_municipios/{current}.csv\")"
   ]
  },
  {
   "cell_type": "code",
   "execution_count": 57,
   "id": "f0317b6d",
   "metadata": {},
   "outputs": [],
   "source": [
    "df_clima_current = df_mun_clima.clone()"
   ]
  },
  {
   "cell_type": "code",
   "execution_count": 58,
   "id": "8902f99b",
   "metadata": {},
   "outputs": [
    {
     "data": {
      "text/plain": [
       "'csv_clima_municipios\\\\2023-04-23-00.csv'"
      ]
     },
     "execution_count": 58,
     "metadata": {},
     "output_type": "execute_result"
    }
   ],
   "source": [
    "list_of_files = glob.glob('csv_clima_municipios\\*')\n",
    "latest_file = max(list_of_files, key=os.path.getctime)\n",
    "latest_file"
   ]
  },
  {
   "cell_type": "code",
   "execution_count": 59,
   "id": "54df13fe",
   "metadata": {},
   "outputs": [],
   "source": [
    "#Previous\n",
    "df_clima_prev = pl.read_csv(latest_file)\n",
    "\n",
    "#Current\n",
    "df_clima_curr = df_clima_current.clone()"
   ]
  },
  {
   "cell_type": "code",
   "execution_count": 63,
   "id": "0b470adf",
   "metadata": {},
   "outputs": [],
   "source": [
    "df_clima = df_clima_prev.join(df_clima_curr, on = [\"ides\",\"idmun\"])"
   ]
  },
  {
   "cell_type": "code",
   "execution_count": 66,
   "id": "6d097220",
   "metadata": {},
   "outputs": [],
   "source": [
    "left_cols = [\"dirvieng\",\"prec\",\"probprec\",\"raf\",\"tmax\",\"tmin\",\"velvien\"]\n",
    "right_cols = [\"dirvieng_right\",\"prec_right\",\"probprec_right\",\"raf_right\",\"tmax_right\",\"tmin_right\",\"velvien_right\"]"
   ]
  },
  {
   "cell_type": "code",
   "execution_count": 67,
   "id": "e6b50b45",
   "metadata": {},
   "outputs": [],
   "source": [
    "new_cols = [\"ides\",\"idmun\"]\n",
    "for l,r in zip(left_cols,right_cols):\n",
    "    name = f\"{l}_t\"\n",
    "    new_cols.append(name)\n",
    "    df_clima = df_clima.with_columns((pl.col(l) + pl.col(r)).alias(name))"
   ]
  },
  {
   "cell_type": "code",
   "execution_count": 69,
   "id": "5838ea7f",
   "metadata": {},
   "outputs": [],
   "source": [
    "df_clima_avg = df_clima[new_cols]"
   ]
  },
  {
   "cell_type": "code",
   "execution_count": 75,
   "id": "97871a38",
   "metadata": {},
   "outputs": [],
   "source": [
    "df_clima_avg.columns = list(map(lambda x: x.replace(\"_t\", \"\"), df_clima_avg.columns))"
   ]
  },
  {
   "cell_type": "code",
   "execution_count": 76,
   "id": "fe9ea0f0",
   "metadata": {},
   "outputs": [],
   "source": [
    "list_of_files = glob.glob('data_municipios/*')\n",
    "latest_file = max(list_of_files, key=os.path.getctime)"
   ]
  },
  {
   "cell_type": "code",
   "execution_count": 78,
   "id": "98fd0651",
   "metadata": {},
   "outputs": [],
   "source": [
    "df_mun= pl.read_csv(f\"{latest_file}/data.csv\")"
   ]
  },
  {
   "cell_type": "code",
   "execution_count": 79,
   "id": "4345ca27",
   "metadata": {},
   "outputs": [],
   "source": [
    "df_clima_mun_avg = df_mun.join(df_clima_avg,left_on=['Cve_Ent','Cve_Mun'],right_on=['ides','idmun'],how='left')"
   ]
  },
  {
   "cell_type": "code",
   "execution_count": 82,
   "id": "00f6f5b6",
   "metadata": {},
   "outputs": [],
   "source": [
    "df_clima_mun_avg.write_csv(f\"clima_municipios_avg/{current}.csv\")\n",
    "df_clima_mun_avg.write_csv(f\"clima_municipios_avg/current.csv\")"
   ]
  }
 ],
 "metadata": {
  "kernelspec": {
   "display_name": "Python 3 (ipykernel)",
   "language": "python",
   "name": "python3"
  },
  "language_info": {
   "codemirror_mode": {
    "name": "ipython",
    "version": 3
   },
   "file_extension": ".py",
   "mimetype": "text/x-python",
   "name": "python",
   "nbconvert_exporter": "python",
   "pygments_lexer": "ipython3",
   "version": "3.10.9"
  }
 },
 "nbformat": 4,
 "nbformat_minor": 5
}
